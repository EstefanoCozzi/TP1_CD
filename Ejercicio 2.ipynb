{
 "cells": [
  {
   "cell_type": "markdown",
   "id": "86ccc026",
   "metadata": {},
   "source": [
    "## **INCISO 2**"
   ]
  },
  {
   "cell_type": "markdown",
   "id": "1be8e1cb",
   "metadata": {},
   "source": [
    "- #### **Análisis de las Variables**"
   ]
  },
  {
   "cell_type": "code",
   "execution_count": null,
   "id": "3f1d5253",
   "metadata": {},
   "outputs": [],
   "source": [
    "#Importación de paquetes necesarios para el inciso\n",
    "import pandas as pd\n",
    "import numpy as np\n",
    "import matplotlib.pyplot as plt\n",
    "import seaborn as sns"
   ]
  },
  {
   "cell_type": "code",
   "execution_count": null,
   "id": "1f2eb53b",
   "metadata": {},
   "outputs": [],
   "source": [
    "# Lectura y análisis del Dataset\n",
    "df1 = pd.read_csv('str_1.csv', delimiter=';')\n",
    "df2 = pd.read_csv('str_2.csv', delimiter=';')"
   ]
  },
  {
   "cell_type": "code",
   "execution_count": null,
   "id": "b9dd6b9e",
   "metadata": {},
   "outputs": [],
   "source": [
    "#Concatenamos los dataframes\n",
    "df = pd.concat([df1, df2], ignore_index=True)"
   ]
  },
  {
   "cell_type": "code",
   "execution_count": null,
   "id": "fe7ca756",
   "metadata": {},
   "outputs": [],
   "source": [
    "# Eliminamos la columna ID para trabajar de una mejor manera\n",
    "df.drop('ID',axis=1, inplace=True)"
   ]
  },
  {
   "cell_type": "code",
   "execution_count": null,
   "id": "109c7d2a",
   "metadata": {},
   "outputs": [],
   "source": [
    "#Información general del dataframe\n",
    "df.info()"
   ]
  },
  {
   "cell_type": "code",
   "execution_count": null,
   "id": "f6f55684",
   "metadata": {},
   "outputs": [],
   "source": [
    "df.head()"
   ]
  },
  {
   "cell_type": "code",
   "execution_count": null,
   "id": "d8b2c99e",
   "metadata": {},
   "outputs": [],
   "source": [
    "df.describe()"
   ]
  },
  {
   "cell_type": "code",
   "execution_count": null,
   "id": "5e1e6805",
   "metadata": {},
   "outputs": [],
   "source": [
    "#Contamos los valores faltantes por columna\n",
    "df.isnull().sum()"
   ]
  },
  {
   "cell_type": "markdown",
   "id": "8b3635e8",
   "metadata": {},
   "source": [
    "- #### **Valores Érroneos/Valores Faltantes**"
   ]
  },
  {
   "cell_type": "code",
   "execution_count": null,
   "id": "3899c546",
   "metadata": {},
   "outputs": [],
   "source": [
    "df[pd.isnull(df.login_attempts)]"
   ]
  },
  {
   "cell_type": "code",
   "execution_count": null,
   "id": "a379e75d",
   "metadata": {},
   "outputs": [],
   "source": [
    "df[pd.notnull(df.login_attempts)]"
   ]
  },
  {
   "cell_type": "code",
   "execution_count": null,
   "id": "8c0fe156",
   "metadata": {},
   "outputs": [],
   "source": [
    "df[pd.isnull(df.encryption_used)]"
   ]
  },
  {
   "cell_type": "code",
   "execution_count": null,
   "id": "06c624d9",
   "metadata": {},
   "outputs": [],
   "source": [
    "df[pd.notnull(df.encryption_used)]"
   ]
  },
  {
   "cell_type": "code",
   "execution_count": null,
   "id": "0057ae01",
   "metadata": {},
   "outputs": [],
   "source": [
    "# Análisis de variables con faltas\n",
    "print(\"\\nValores únicos por variable con faltas:\\n\")\n",
    "for col in ['encryption_used', 'login_attempts']:\n",
    "    print(f\"\\nColumna: {col}\")\n",
    "    print(df[col].value_counts(dropna=False))"
   ]
  },
  {
   "cell_type": "code",
   "execution_count": null,
   "id": "1dc81b8f",
   "metadata": {},
   "outputs": [],
   "source": [
    "# Limpieza de valores faltantes\n",
    "\n",
    "# Imputar login_attempts con la media\n",
    "df.loc[pd.isnull(df.login_attempts), 'login_attempts'] = df[pd.notnull(df.login_attempts)].login_attempts.median()"
   ]
  },
  {
   "cell_type": "code",
   "execution_count": null,
   "id": "18f9db9f",
   "metadata": {},
   "outputs": [],
   "source": [
    "# Imputar encryption_used con la categoría 'Faltante'\n",
    "df.loc[pd.isnull(df['encryption_used']), 'encryption_used'] = 'Faltante'"
   ]
  },
  {
   "cell_type": "code",
   "execution_count": null,
   "id": "488f3f7c",
   "metadata": {},
   "outputs": [],
   "source": [
    "# Confirmar que ya no quedan valores faltantes\n",
    "print(\"\\nValores faltantes después de la imputación:\\n\")\n",
    "df.isnull().sum()"
   ]
  },
  {
   "cell_type": "markdown",
   "id": "6289ddf6",
   "metadata": {},
   "source": [
    "- #### **Valores atípicos**"
   ]
  },
  {
   "cell_type": "code",
   "execution_count": null,
   "id": "ae75ace6",
   "metadata": {},
   "outputs": [],
   "source": [
    "## Boxplot para visualizar valores atípicos\n",
    "# Visualizamos la distribución de las distintas variables\n",
    "fig, ax = plt.subplots(figsize=(15,6))\n",
    "df.plot(kind='box', ax=ax)\n",
    "\n",
    "#df[['login_attempts', 'ip_reputation_score', 'failed_logins']].plot(kind='box', ax=ax)"
   ]
  },
  {
   "cell_type": "code",
   "execution_count": null,
   "id": "5b8a52d0",
   "metadata": {},
   "outputs": [],
   "source": [
    "## Ver que podemos hacer acá, para mi los intentos de login y fallos de login no son variables atípicas a tratar, el hoario inusual mucho menos\n",
    "## es binario encima, duration, tamaño de paquete podría tratarse, confiabilidad del ip no porq los valores atípicos son representativos\n",
    "## Consultar bien esto"
   ]
  },
  {
   "cell_type": "code",
   "execution_count": null,
   "id": "62f54ca0",
   "metadata": {},
   "outputs": [],
   "source": [
    "## Visualizamos nuevamente los Boxplots\n",
    "fig, ax = plt.subplots(figsize=(15,6))\n",
    "#df.plot(kind='box', ax=ax)\n",
    "\n",
    "df[['duration']].plot(kind='box', ax=ax)\n",
    "plt.title(\"Boxplot de variables numéricas\")\n",
    "plt.show()"
   ]
  },
  {
   "cell_type": "markdown",
   "id": "340361d9",
   "metadata": {},
   "source": [
    "- #### **Correlación entre variables**"
   ]
  },
  {
   "cell_type": "code",
   "execution_count": null,
   "id": "c1569e13",
   "metadata": {},
   "outputs": [],
   "source": [
    "# Calculamos la matriz de correlación absoluta\n",
    "corr = df.corr(numeric_only=True).abs()"
   ]
  },
  {
   "cell_type": "code",
   "execution_count": null,
   "id": "4da962a5",
   "metadata": {},
   "outputs": [],
   "source": [
    "# Calculamos un vector con las medias de cada columna\n",
    "column_mean = corr.mean(axis=1)"
   ]
  },
  {
   "cell_type": "code",
   "execution_count": null,
   "id": "146af2b9",
   "metadata": {},
   "outputs": [],
   "source": [
    "column_mean"
   ]
  },
  {
   "cell_type": "code",
   "execution_count": null,
   "id": "a7494388",
   "metadata": {},
   "outputs": [],
   "source": [
    "corr"
   ]
  },
  {
   "cell_type": "code",
   "execution_count": null,
   "id": "aa0eb421",
   "metadata": {},
   "outputs": [],
   "source": [
    "# Visualizamos la matriz de correlación\n",
    "sns.heatmap(corr, xticklabels=corr.columns, yticklabels=corr.columns, annot=True, cmap=sns.diverging_palette(220, 20, as_cmap=True))\n",
    "plt.tight_layout()"
   ]
  },
  {
   "cell_type": "code",
   "execution_count": null,
   "id": "3a1adea8",
   "metadata": {},
   "outputs": [],
   "source": [
    "# Calculo de las correlaciones de las columnas dado un umbral\n",
    "umbral = 0.70\n",
    "variables = corr.columns\n",
    "\n",
    "for i in range(len(variables)):\n",
    "    for j in range(i + 1, len(variables)):\n",
    "        if corr.iloc[i, j] > umbral:\n",
    "            print(f\"La variable '{variables[i]}' está altamente correlacionada con '{variables[j]}'\")\n",
    "            if column_mean[variables[i]] > column_mean[variables[j]]:\n",
    "                print(f\"Se recomienda eliminar: '{variables[i]}'\")\n",
    "            else:\n",
    "                print(f\"Se recomienda eliminar: '{variables[j]}'\")"
   ]
  },
  {
   "cell_type": "code",
   "execution_count": null,
   "id": "df3558d4",
   "metadata": {},
   "outputs": [],
   "source": [
    "# esto está de adorno, sirve para ver de otra manera la correlación entre variables numéricas\n",
    "sns.pairplot(df)"
   ]
  },
  {
   "cell_type": "markdown",
   "id": "5cb8e096",
   "metadata": {},
   "source": [
    "- #### **Procesamiento de variables categóricas.**"
   ]
  },
  {
   "cell_type": "markdown",
   "id": "6c1c7b8e",
   "metadata": {},
   "source": [
    "- #### **Balance del conjunto de datos.**"
   ]
  },
  {
   "cell_type": "markdown",
   "id": "848a3f32",
   "metadata": {},
   "source": [
    "- #### **Normalización del conjunto de datos.**"
   ]
  },
  {
   "cell_type": "code",
   "execution_count": null,
   "id": "0a1698fa",
   "metadata": {},
   "outputs": [],
   "source": [
    "# Selección de variables numéricas\n",
    "num_cols = ['login_attempts', 'duration', 'packet_size', 'ip_reputation_score', 'failed_logins']\n",
    "\n",
    "# Filtramos los datos\n",
    "data_numeric = df[num_cols]"
   ]
  },
  {
   "cell_type": "code",
   "execution_count": null,
   "id": "22602094",
   "metadata": {},
   "outputs": [],
   "source": [
    "# Calculamos la media y desviación estándar\n",
    "means = data_numeric.mean()\n",
    "stds = data_numeric.std()"
   ]
  },
  {
   "cell_type": "code",
   "execution_count": null,
   "id": "03b7b5eb",
   "metadata": {},
   "outputs": [],
   "source": [
    "# Aplicamos la normalización Z-score\n",
    "data_scaled = (data_numeric - means) / stds"
   ]
  },
  {
   "cell_type": "code",
   "execution_count": null,
   "id": "3743a082",
   "metadata": {},
   "outputs": [],
   "source": [
    "# Reemplazamos en el DataFrame original\n",
    "df_scaled = df.copy()\n",
    "df_scaled[num_cols] = data_scaled"
   ]
  }
 ],
 "metadata": {
  "kernelspec": {
   "display_name": "Python 3",
   "language": "python",
   "name": "python3"
  },
  "language_info": {
   "codemirror_mode": {
    "name": "ipython",
    "version": 3
   },
   "file_extension": ".py",
   "mimetype": "text/x-python",
   "name": "python",
   "nbconvert_exporter": "python",
   "pygments_lexer": "ipython3",
   "version": "3.12.3"
  }
 },
 "nbformat": 4,
 "nbformat_minor": 5
}
