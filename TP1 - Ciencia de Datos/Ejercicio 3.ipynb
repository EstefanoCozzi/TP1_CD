{
 "cells": [
  {
   "cell_type": "code",
   "id": "87dd7c5a",
   "metadata": {
    "ExecuteTime": {
     "end_time": "2025-05-21T18:05:30.506202Z",
     "start_time": "2025-05-21T18:05:30.492318Z"
    }
   },
   "source": [
    "# Importamos las lbrerias necesarias\n",
    "import numpy as np\n",
    "import pandas as pd\n",
    "import matplotlib.pyplot as plt\n",
    "import seaborn as sns\n",
    "from colorama import Fore, Style"
   ],
   "outputs": [],
   "execution_count": 1
  },
  {
   "cell_type": "code",
   "id": "04050337",
   "metadata": {
    "ExecuteTime": {
     "end_time": "2025-05-21T18:05:55.352834Z",
     "start_time": "2025-05-21T18:05:55.303824Z"
    }
   },
   "source": [
    "# Lectura con pandas de los archivos CSV \n",
    "df_1 = pd.read_csv('str_1.csv', delimiter=';')\n",
    "df_2 = pd.read_csv('str_2.csv', delimiter=';')\n",
    "\n",
    "df = pd.concat([df_1, df_2], ignore_index=True)"
   ],
   "outputs": [],
   "execution_count": 2
  },
  {
   "cell_type": "code",
   "id": "9d780aea",
   "metadata": {
    "ExecuteTime": {
     "end_time": "2025-05-21T18:05:57.300173Z",
     "start_time": "2025-05-21T18:05:57.267064Z"
    }
   },
   "source": [
    "# Observamos los primeros registros del dataframe\n",
    "df.head()"
   ],
   "outputs": [
    {
     "data": {
      "text/plain": [
       "   ID protocol browser_type  login_attempts     duration  packet_size  \\\n",
       "0   0      TCP         Edge             4.0   492.983263          599   \n",
       "1   1      TCP      Firefox             3.0  1557.996461          472   \n",
       "2   2      TCP       Chrome             3.0    75.044262          629   \n",
       "3   3      UDP      Unknown             4.0   601.248835          804   \n",
       "4   4      TCP      Firefox             5.0   532.540888          453   \n",
       "\n",
       "  encryption_used  ip_reputation_score  failed_logins  unusual_time_access  \\\n",
       "0             DES             0.606818              1                    0   \n",
       "1             DES             0.301569              0                    0   \n",
       "2             DES             0.739164              2                    0   \n",
       "3             DES             0.123267              0                    0   \n",
       "4             AES             0.054874              1                    0   \n",
       "\n",
       "  attack  \n",
       "0      Y  \n",
       "1      N  \n",
       "2      Y  \n",
       "3      Y  \n",
       "4      N  "
      ],
      "text/html": [
       "<div>\n",
       "<style scoped>\n",
       "    .dataframe tbody tr th:only-of-type {\n",
       "        vertical-align: middle;\n",
       "    }\n",
       "\n",
       "    .dataframe tbody tr th {\n",
       "        vertical-align: top;\n",
       "    }\n",
       "\n",
       "    .dataframe thead th {\n",
       "        text-align: right;\n",
       "    }\n",
       "</style>\n",
       "<table border=\"1\" class=\"dataframe\">\n",
       "  <thead>\n",
       "    <tr style=\"text-align: right;\">\n",
       "      <th></th>\n",
       "      <th>ID</th>\n",
       "      <th>protocol</th>\n",
       "      <th>browser_type</th>\n",
       "      <th>login_attempts</th>\n",
       "      <th>duration</th>\n",
       "      <th>packet_size</th>\n",
       "      <th>encryption_used</th>\n",
       "      <th>ip_reputation_score</th>\n",
       "      <th>failed_logins</th>\n",
       "      <th>unusual_time_access</th>\n",
       "      <th>attack</th>\n",
       "    </tr>\n",
       "  </thead>\n",
       "  <tbody>\n",
       "    <tr>\n",
       "      <th>0</th>\n",
       "      <td>0</td>\n",
       "      <td>TCP</td>\n",
       "      <td>Edge</td>\n",
       "      <td>4.0</td>\n",
       "      <td>492.983263</td>\n",
       "      <td>599</td>\n",
       "      <td>DES</td>\n",
       "      <td>0.606818</td>\n",
       "      <td>1</td>\n",
       "      <td>0</td>\n",
       "      <td>Y</td>\n",
       "    </tr>\n",
       "    <tr>\n",
       "      <th>1</th>\n",
       "      <td>1</td>\n",
       "      <td>TCP</td>\n",
       "      <td>Firefox</td>\n",
       "      <td>3.0</td>\n",
       "      <td>1557.996461</td>\n",
       "      <td>472</td>\n",
       "      <td>DES</td>\n",
       "      <td>0.301569</td>\n",
       "      <td>0</td>\n",
       "      <td>0</td>\n",
       "      <td>N</td>\n",
       "    </tr>\n",
       "    <tr>\n",
       "      <th>2</th>\n",
       "      <td>2</td>\n",
       "      <td>TCP</td>\n",
       "      <td>Chrome</td>\n",
       "      <td>3.0</td>\n",
       "      <td>75.044262</td>\n",
       "      <td>629</td>\n",
       "      <td>DES</td>\n",
       "      <td>0.739164</td>\n",
       "      <td>2</td>\n",
       "      <td>0</td>\n",
       "      <td>Y</td>\n",
       "    </tr>\n",
       "    <tr>\n",
       "      <th>3</th>\n",
       "      <td>3</td>\n",
       "      <td>UDP</td>\n",
       "      <td>Unknown</td>\n",
       "      <td>4.0</td>\n",
       "      <td>601.248835</td>\n",
       "      <td>804</td>\n",
       "      <td>DES</td>\n",
       "      <td>0.123267</td>\n",
       "      <td>0</td>\n",
       "      <td>0</td>\n",
       "      <td>Y</td>\n",
       "    </tr>\n",
       "    <tr>\n",
       "      <th>4</th>\n",
       "      <td>4</td>\n",
       "      <td>TCP</td>\n",
       "      <td>Firefox</td>\n",
       "      <td>5.0</td>\n",
       "      <td>532.540888</td>\n",
       "      <td>453</td>\n",
       "      <td>AES</td>\n",
       "      <td>0.054874</td>\n",
       "      <td>1</td>\n",
       "      <td>0</td>\n",
       "      <td>N</td>\n",
       "    </tr>\n",
       "  </tbody>\n",
       "</table>\n",
       "</div>"
      ]
     },
     "execution_count": 3,
     "metadata": {},
     "output_type": "execute_result"
    }
   ],
   "execution_count": 3
  },
  {
   "cell_type": "code",
   "id": "55c568a0",
   "metadata": {
    "ExecuteTime": {
     "end_time": "2025-05-21T18:06:00.122884Z",
     "start_time": "2025-05-21T18:06:00.110875Z"
    }
   },
   "source": [
    "# Eliminamos la columna ID\n",
    "df.drop('ID', axis=1, inplace=True)"
   ],
   "outputs": [],
   "execution_count": 4
  },
  {
   "cell_type": "code",
   "id": "a712e2b5",
   "metadata": {
    "ExecuteTime": {
     "end_time": "2025-05-21T18:06:01.563217Z",
     "start_time": "2025-05-21T18:06:01.542213Z"
    }
   },
   "source": [
    "# Verificamos que se elimino la columna ID\n",
    "df.head()"
   ],
   "outputs": [
    {
     "data": {
      "text/plain": [
       "  protocol browser_type  login_attempts     duration  packet_size  \\\n",
       "0      TCP         Edge             4.0   492.983263          599   \n",
       "1      TCP      Firefox             3.0  1557.996461          472   \n",
       "2      TCP       Chrome             3.0    75.044262          629   \n",
       "3      UDP      Unknown             4.0   601.248835          804   \n",
       "4      TCP      Firefox             5.0   532.540888          453   \n",
       "\n",
       "  encryption_used  ip_reputation_score  failed_logins  unusual_time_access  \\\n",
       "0             DES             0.606818              1                    0   \n",
       "1             DES             0.301569              0                    0   \n",
       "2             DES             0.739164              2                    0   \n",
       "3             DES             0.123267              0                    0   \n",
       "4             AES             0.054874              1                    0   \n",
       "\n",
       "  attack  \n",
       "0      Y  \n",
       "1      N  \n",
       "2      Y  \n",
       "3      Y  \n",
       "4      N  "
      ],
      "text/html": [
       "<div>\n",
       "<style scoped>\n",
       "    .dataframe tbody tr th:only-of-type {\n",
       "        vertical-align: middle;\n",
       "    }\n",
       "\n",
       "    .dataframe tbody tr th {\n",
       "        vertical-align: top;\n",
       "    }\n",
       "\n",
       "    .dataframe thead th {\n",
       "        text-align: right;\n",
       "    }\n",
       "</style>\n",
       "<table border=\"1\" class=\"dataframe\">\n",
       "  <thead>\n",
       "    <tr style=\"text-align: right;\">\n",
       "      <th></th>\n",
       "      <th>protocol</th>\n",
       "      <th>browser_type</th>\n",
       "      <th>login_attempts</th>\n",
       "      <th>duration</th>\n",
       "      <th>packet_size</th>\n",
       "      <th>encryption_used</th>\n",
       "      <th>ip_reputation_score</th>\n",
       "      <th>failed_logins</th>\n",
       "      <th>unusual_time_access</th>\n",
       "      <th>attack</th>\n",
       "    </tr>\n",
       "  </thead>\n",
       "  <tbody>\n",
       "    <tr>\n",
       "      <th>0</th>\n",
       "      <td>TCP</td>\n",
       "      <td>Edge</td>\n",
       "      <td>4.0</td>\n",
       "      <td>492.983263</td>\n",
       "      <td>599</td>\n",
       "      <td>DES</td>\n",
       "      <td>0.606818</td>\n",
       "      <td>1</td>\n",
       "      <td>0</td>\n",
       "      <td>Y</td>\n",
       "    </tr>\n",
       "    <tr>\n",
       "      <th>1</th>\n",
       "      <td>TCP</td>\n",
       "      <td>Firefox</td>\n",
       "      <td>3.0</td>\n",
       "      <td>1557.996461</td>\n",
       "      <td>472</td>\n",
       "      <td>DES</td>\n",
       "      <td>0.301569</td>\n",
       "      <td>0</td>\n",
       "      <td>0</td>\n",
       "      <td>N</td>\n",
       "    </tr>\n",
       "    <tr>\n",
       "      <th>2</th>\n",
       "      <td>TCP</td>\n",
       "      <td>Chrome</td>\n",
       "      <td>3.0</td>\n",
       "      <td>75.044262</td>\n",
       "      <td>629</td>\n",
       "      <td>DES</td>\n",
       "      <td>0.739164</td>\n",
       "      <td>2</td>\n",
       "      <td>0</td>\n",
       "      <td>Y</td>\n",
       "    </tr>\n",
       "    <tr>\n",
       "      <th>3</th>\n",
       "      <td>UDP</td>\n",
       "      <td>Unknown</td>\n",
       "      <td>4.0</td>\n",
       "      <td>601.248835</td>\n",
       "      <td>804</td>\n",
       "      <td>DES</td>\n",
       "      <td>0.123267</td>\n",
       "      <td>0</td>\n",
       "      <td>0</td>\n",
       "      <td>Y</td>\n",
       "    </tr>\n",
       "    <tr>\n",
       "      <th>4</th>\n",
       "      <td>TCP</td>\n",
       "      <td>Firefox</td>\n",
       "      <td>5.0</td>\n",
       "      <td>532.540888</td>\n",
       "      <td>453</td>\n",
       "      <td>AES</td>\n",
       "      <td>0.054874</td>\n",
       "      <td>1</td>\n",
       "      <td>0</td>\n",
       "      <td>N</td>\n",
       "    </tr>\n",
       "  </tbody>\n",
       "</table>\n",
       "</div>"
      ]
     },
     "execution_count": 5,
     "metadata": {},
     "output_type": "execute_result"
    }
   ],
   "execution_count": 5
  },
  {
   "cell_type": "markdown",
   "id": "881eb5f6",
   "metadata": {},
   "source": [
    "## VALORES ERRÓNEOS Y/O FALTANTES"
   ]
  },
  {
   "cell_type": "code",
   "id": "3afc853d",
   "metadata": {
    "ExecuteTime": {
     "end_time": "2025-05-21T18:06:04.289503Z",
     "start_time": "2025-05-21T18:06:04.276501Z"
    }
   },
   "source": [
    "# Observamos los valores faltantes\n",
    "df.isnull().sum()"
   ],
   "outputs": [
    {
     "data": {
      "text/plain": [
       "protocol                  0\n",
       "browser_type              0\n",
       "login_attempts          128\n",
       "duration                  0\n",
       "packet_size               0\n",
       "encryption_used        1966\n",
       "ip_reputation_score       0\n",
       "failed_logins             0\n",
       "unusual_time_access       0\n",
       "attack                    0\n",
       "dtype: int64"
      ]
     },
     "execution_count": 6,
     "metadata": {},
     "output_type": "execute_result"
    }
   ],
   "execution_count": 6
  },
  {
   "cell_type": "code",
   "id": "992c75a3",
   "metadata": {
    "ExecuteTime": {
     "end_time": "2025-05-21T18:06:07.046366Z",
     "start_time": "2025-05-21T18:06:07.034348Z"
    }
   },
   "source": [
    "# Asignar a los valores faltantes de intentos de login la mediana ya que son numeros naturales\n",
    "df['login_attempts'].fillna(df['login_attempts'].median(), inplace=True)"
   ],
   "outputs": [
    {
     "name": "stderr",
     "output_type": "stream",
     "text": [
      "C:\\Users\\Santiago\\AppData\\Local\\Temp\\ipykernel_2540\\1188450550.py:2: FutureWarning: A value is trying to be set on a copy of a DataFrame or Series through chained assignment using an inplace method.\n",
      "The behavior will change in pandas 3.0. This inplace method will never work because the intermediate object on which we are setting values always behaves as a copy.\n",
      "\n",
      "For example, when doing 'df[col].method(value, inplace=True)', try using 'df.method({col: value}, inplace=True)' or df[col] = df[col].method(value) instead, to perform the operation inplace on the original object.\n",
      "\n",
      "\n",
      "  df['login_attempts'].fillna(df['login_attempts'].median(), inplace=True)\n"
     ]
    }
   ],
   "execution_count": 7
  },
  {
   "cell_type": "code",
   "id": "a22c4957",
   "metadata": {
    "ExecuteTime": {
     "end_time": "2025-05-21T18:06:09.094392Z",
     "start_time": "2025-05-21T18:06:08.972130Z"
    }
   },
   "source": [
    "# Protocolo de encriptación\n",
    "df_encryption_used = pd.DataFrame(df['encryption_used'])\n",
    "df_encryption_used.fillna('Vacio', inplace=True)\n",
    "\n",
    "plt.pie(df_encryption_used['encryption_used'].value_counts(), labels=df_encryption_used['encryption_used'].unique(), autopct='%1.2f%%') #\n",
    "plt.title('Proporción de distintos protocolos de encriptación usados')\n",
    "\n",
    "plt.tight_layout()\n",
    "plt.show()"
   ],
   "outputs": [
    {
     "data": {
      "text/plain": [
       "<Figure size 640x480 with 1 Axes>"
      ],
      "image/png": "[encoded data removed]"
     },
     "metadata": {},
     "output_type": "display_data"
    }
   ],
   "execution_count": 8
  },
  {
   "cell_type": "code",
   "id": "1e4e9b23",
   "metadata": {
    "ExecuteTime": {
     "end_time": "2025-05-21T18:06:11.654004Z",
     "start_time": "2025-05-21T18:06:11.635998Z"
    }
   },
   "source": [
    "# Para los datos faltantes del protocolo de encriptación\n",
    "# Obtener distribución original (sin NaN)\n",
    "dist = df['encryption_used'].value_counts(normalize=True)\n",
    "\n",
    "# Generar valores aleatorios con esa distribución\n",
    "missing_count = df['encryption_used'].isna().sum()\n",
    "imputed_values = np.random.choice(dist.index, size=missing_count, p=dist.values)\n",
    "\n",
    "# Reemplazar NaNs con los valores generados\n",
    "df.loc[df['encryption_used'].isna(), 'encryption_used'] = imputed_values\n",
    "\n",
    "# Si la variable tiene correlación con otras podrías entrenar un modelo de clasificación"
   ],
   "outputs": [],
   "execution_count": 9
  },
  {
   "cell_type": "code",
   "id": "e5104b50",
   "metadata": {
    "ExecuteTime": {
     "end_time": "2025-05-21T18:06:13.467230Z",
     "start_time": "2025-05-21T18:06:13.371205Z"
    }
   },
   "source": [
    "# Protocolo de encriptación\n",
    "plt.pie(df['encryption_used'].value_counts(), labels=df['encryption_used'].unique(), autopct='%1.2f%%') #\n",
    "plt.title('Proporción de distintos protocolos de encriptación usados')\n",
    "\n",
    "plt.tight_layout()\n",
    "plt.show()"
   ],
   "outputs": [
    {
     "data": {
      "text/plain": [
       "<Figure size 640x480 with 1 Axes>"
      ],
      "image/png": "[encoded data removed]"
     },
     "metadata": {},
     "output_type": "display_data"
    }
   ],
   "execution_count": 10
  },
  {
   "cell_type": "code",
   "id": "9af24747",
   "metadata": {
    "ExecuteTime": {
     "end_time": "2025-05-21T18:06:16.030387Z",
     "start_time": "2025-05-21T18:06:16.009385Z"
    }
   },
   "source": [
    "# Verificamos los valores faltantes\n",
    "df.isnull().sum()"
   ],
   "outputs": [
    {
     "data": {
      "text/plain": [
       "protocol               0\n",
       "browser_type           0\n",
       "login_attempts         0\n",
       "duration               0\n",
       "packet_size            0\n",
       "encryption_used        0\n",
       "ip_reputation_score    0\n",
       "failed_logins          0\n",
       "unusual_time_access    0\n",
       "attack                 0\n",
       "dtype: int64"
      ]
     },
     "execution_count": 11,
     "metadata": {},
     "output_type": "execute_result"
    }
   ],
   "execution_count": 11
  },
  {
   "cell_type": "markdown",
   "id": "0599cbb7",
   "metadata": {},
   "source": [
    "## VALORES ATÍPICOS"
   ]
  },
  {
   "cell_type": "code",
   "id": "dd8c5b15",
   "metadata": {
    "ExecuteTime": {
     "end_time": "2025-05-21T18:06:18.484201Z",
     "start_time": "2025-05-21T18:06:18.268108Z"
    }
   },
   "source": [
    "# Boxplot para visualizar valores atípicos\n",
    "# Visualizamos la distribución de las distintas variables\n",
    "fig, ax = plt.subplots(figsize=(15,6))\n",
    "df.plot(kind='box', ax=ax)"
   ],
   "outputs": [
    {
     "data": {
      "text/plain": [
       "<Axes: >"
      ]
     },
     "execution_count": 12,
     "metadata": {},
     "output_type": "execute_result"
    },
    {
     "data": {
      "text/plain": [
       "<Figure size 1500x600 with 1 Axes>"
      ],
      "image/png": "[encoded data removed]"
     },
     "metadata": {},
     "output_type": "display_data"
    }
   ],
   "execution_count": 12
  },
  {
   "cell_type": "markdown",
   "id": "f7695604",
   "metadata": {},
   "source": [
    "## PROCESAMIENTO DE VARIABLES CATEGÓRICAS"
   ]
  },
  {
   "cell_type": "code",
   "id": "e3f5b46b",
   "metadata": {
    "ExecuteTime": {
     "end_time": "2025-05-21T18:06:21.109644Z",
     "start_time": "2025-05-21T18:06:21.076606Z"
    }
   },
   "source": [
    "df = pd.get_dummies(df, columns=['protocol','browser_type'], dtype=int)\n",
    "df = pd.get_dummies(df, columns=['encryption_used', 'unusual_time_access'], dtype=int)"
   ],
   "outputs": [],
   "execution_count": 13
  },
  {
   "cell_type": "code",
   "id": "4e2b96c7",
   "metadata": {
    "ExecuteTime": {
     "end_time": "2025-05-21T18:06:23.172500Z",
     "start_time": "2025-05-21T18:06:23.158492Z"
    }
   },
   "source": [
    "df.head()"
   ],
   "outputs": [
    {
     "data": {
      "text/plain": [
       "   login_attempts     duration  packet_size  ip_reputation_score  \\\n",
       "0             4.0   492.983263          599             0.606818   \n",
       "1             3.0  1557.996461          472             0.301569   \n",
       "2             3.0    75.044262          629             0.739164   \n",
       "3             4.0   601.248835          804             0.123267   \n",
       "4             5.0   532.540888          453             0.054874   \n",
       "\n",
       "   failed_logins attack  protocol_ICMP  protocol_TCP  protocol_UDP  \\\n",
       "0              1      Y              0             1             0   \n",
       "1              0      N              0             1             0   \n",
       "2              2      Y              0             1             0   \n",
       "3              0      Y              0             0             1   \n",
       "4              1      N              0             1             0   \n",
       "\n",
       "   browser_type_Chrome  browser_type_Edge  browser_type_Firefox  \\\n",
       "0                    0                  1                     0   \n",
       "1                    0                  0                     1   \n",
       "2                    1                  0                     0   \n",
       "3                    0                  0                     0   \n",
       "4                    0                  0                     1   \n",
       "\n",
       "   browser_type_Safari  browser_type_Unknown  encryption_used_AES  \\\n",
       "0                    0                     0                    0   \n",
       "1                    0                     0                    0   \n",
       "2                    0                     0                    0   \n",
       "3                    0                     1                    0   \n",
       "4                    0                     0                    1   \n",
       "\n",
       "   encryption_used_DES  unusual_time_access_0  unusual_time_access_1  \n",
       "0                    1                      1                      0  \n",
       "1                    1                      1                      0  \n",
       "2                    1                      1                      0  \n",
       "3                    1                      1                      0  \n",
       "4                    0                      1                      0  "
      ],
      "text/html": [
       "<div>\n",
       "<style scoped>\n",
       "    .dataframe tbody tr th:only-of-type {\n",
       "        vertical-align: middle;\n",
       "    }\n",
       "\n",
       "    .dataframe tbody tr th {\n",
       "        vertical-align: top;\n",
       "    }\n",
       "\n",
       "    .dataframe thead th {\n",
       "        text-align: right;\n",
       "    }\n",
       "</style>\n",
       "<table border=\"1\" class=\"dataframe\">\n",
       "  <thead>\n",
       "    <tr style=\"text-align: right;\">\n",
       "      <th></th>\n",
       "      <th>login_attempts</th>\n",
       "      <th>duration</th>\n",
       "      <th>packet_size</th>\n",
       "      <th>ip_reputation_score</th>\n",
       "      <th>failed_logins</th>\n",
       "      <th>attack</th>\n",
       "      <th>protocol_ICMP</th>\n",
       "      <th>protocol_TCP</th>\n",
       "      <th>protocol_UDP</th>\n",
       "      <th>browser_type_Chrome</th>\n",
       "      <th>browser_type_Edge</th>\n",
       "      <th>browser_type_Firefox</th>\n",
       "      <th>browser_type_Safari</th>\n",
       "      <th>browser_type_Unknown</th>\n",
       "      <th>encryption_used_AES</th>\n",
       "      <th>encryption_used_DES</th>\n",
       "      <th>unusual_time_access_0</th>\n",
       "      <th>unusual_time_access_1</th>\n",
       "    </tr>\n",
       "  </thead>\n",
       "  <tbody>\n",
       "    <tr>\n",
       "      <th>0</th>\n",
       "      <td>4.0</td>\n",
       "      <td>492.983263</td>\n",
       "      <td>599</td>\n",
       "      <td>0.606818</td>\n",
       "      <td>1</td>\n",
       "      <td>Y</td>\n",
       "      <td>0</td>\n",
       "      <td>1</td>\n",
       "      <td>0</td>\n",
       "      <td>0</td>\n",
       "      <td>1</td>\n",
       "      <td>0</td>\n",
       "      <td>0</td>\n",
       "      <td>0</td>\n",
       "      <td>0</td>\n",
       "      <td>1</td>\n",
       "      <td>1</td>\n",
       "      <td>0</td>\n",
       "    </tr>\n",
       "    <tr>\n",
       "      <th>1</th>\n",
       "      <td>3.0</td>\n",
       "      <td>1557.996461</td>\n",
       "      <td>472</td>\n",
       "      <td>0.301569</td>\n",
       "      <td>0</td>\n",
       "      <td>N</td>\n",
       "      <td>0</td>\n",
       "      <td>1</td>\n",
       "      <td>0</td>\n",
       "      <td>0</td>\n",
       "      <td>0</td>\n",
       "      <td>1</td>\n",
       "      <td>0</td>\n",
       "      <td>0</td>\n",
       "      <td>0</td>\n",
       "      <td>1</td>\n",
       "      <td>1</td>\n",
       "      <td>0</td>\n",
       "    </tr>\n",
       "    <tr>\n",
       "      <th>2</th>\n",
       "      <td>3.0</td>\n",
       "      <td>75.044262</td>\n",
       "      <td>629</td>\n",
       "      <td>0.739164</td>\n",
       "      <td>2</td>\n",
       "      <td>Y</td>\n",
       "      <td>0</td>\n",
       "      <td>1</td>\n",
       "      <td>0</td>\n",
       "      <td>1</td>\n",
       "      <td>0</td>\n",
       "      <td>0</td>\n",
       "      <td>0</td>\n",
       "      <td>0</td>\n",
       "      <td>0</td>\n",
       "      <td>1</td>\n",
       "      <td>1</td>\n",
       "      <td>0</td>\n",
       "    </tr>\n",
       "    <tr>\n",
       "      <th>3</th>\n",
       "      <td>4.0</td>\n",
       "      <td>601.248835</td>\n",
       "      <td>804</td>\n",
       "      <td>0.123267</td>\n",
       "      <td>0</td>\n",
       "      <td>Y</td>\n",
       "      <td>0</td>\n",
       "      <td>0</td>\n",
       "      <td>1</td>\n",
       "      <td>0</td>\n",
       "      <td>0</td>\n",
       "      <td>0</td>\n",
       "      <td>0</td>\n",
       "      <td>1</td>\n",
       "      <td>0</td>\n",
       "      <td>1</td>\n",
       "      <td>1</td>\n",
       "      <td>0</td>\n",
       "    </tr>\n",
       "    <tr>\n",
       "      <th>4</th>\n",
       "      <td>5.0</td>\n",
       "      <td>532.540888</td>\n",
       "      <td>453</td>\n",
       "      <td>0.054874</td>\n",
       "      <td>1</td>\n",
       "      <td>N</td>\n",
       "      <td>0</td>\n",
       "      <td>1</td>\n",
       "      <td>0</td>\n",
       "      <td>0</td>\n",
       "      <td>0</td>\n",
       "      <td>1</td>\n",
       "      <td>0</td>\n",
       "      <td>0</td>\n",
       "      <td>1</td>\n",
       "      <td>0</td>\n",
       "      <td>1</td>\n",
       "      <td>0</td>\n",
       "    </tr>\n",
       "  </tbody>\n",
       "</table>\n",
       "</div>"
      ]
     },
     "execution_count": 14,
     "metadata": {},
     "output_type": "execute_result"
    }
   ],
   "execution_count": 14
  },
  {
   "cell_type": "markdown",
   "id": "eabd284f",
   "metadata": {},
   "source": [
    "Los valores de la variable categórica que representa nuestras etiquetas son Strings 'Y' y 'N' representando fue atacado o no. Cambiamos estos resultados por 1 para la etiqueta 'Y' y 0 para la etiqueta 'N'."
   ]
  },
  {
   "cell_type": "code",
   "id": "e4ba04c0",
   "metadata": {
    "ExecuteTime": {
     "end_time": "2025-05-21T18:06:40.836290Z",
     "start_time": "2025-05-21T18:06:40.823288Z"
    }
   },
   "source": [
    "# Visualizar los valores de la columna (unique).\n",
    "df['attack'].unique()"
   ],
   "outputs": [
    {
     "data": {
      "text/plain": [
       "array(['Y', 'N'], dtype=object)"
      ]
     },
     "execution_count": 15,
     "metadata": {},
     "output_type": "execute_result"
    }
   ],
   "execution_count": 15
  },
  {
   "cell_type": "code",
   "id": "a7ab3bad",
   "metadata": {
    "ExecuteTime": {
     "end_time": "2025-05-21T18:06:43.777412Z",
     "start_time": "2025-05-21T18:06:43.761410Z"
    }
   },
   "source": [
    "# Cambiar los valores Y y N de la columna \"attack\" por 1 y 0\n",
    "df['attack'] = df['attack'].map({'Y':1,'N':0})"
   ],
   "outputs": [],
   "execution_count": 16
  },
  {
   "cell_type": "code",
   "id": "b7e5ae23",
   "metadata": {
    "ExecuteTime": {
     "end_time": "2025-05-21T18:06:45.449312Z",
     "start_time": "2025-05-21T18:06:45.437310Z"
    }
   },
   "source": [
    "# Visualizar los valores de la columna (unique).\n",
    "df['attack'].unique()"
   ],
   "outputs": [
    {
     "data": {
      "text/plain": [
       "array([1, 0])"
      ]
     },
     "execution_count": 17,
     "metadata": {},
     "output_type": "execute_result"
    }
   ],
   "execution_count": 17
  },
  {
   "cell_type": "markdown",
   "id": "cb1e23dc",
   "metadata": {},
   "source": [
    "## BALANCE DEL CONJUNTO DE DATOS"
   ]
  },
  {
   "cell_type": "code",
   "id": "831e3005",
   "metadata": {
    "ExecuteTime": {
     "end_time": "2025-05-21T18:06:47.752228Z",
     "start_time": "2025-05-21T18:06:47.734224Z"
    }
   },
   "source": [
    "# Visualizar el balance del dataset\n",
    "df['attack'].value_counts()"
   ],
   "outputs": [
    {
     "data": {
      "text/plain": [
       "attack\n",
       "0    5273\n",
       "1    4264\n",
       "Name: count, dtype: int64"
      ]
     },
     "execution_count": 18,
     "metadata": {},
     "output_type": "execute_result"
    }
   ],
   "execution_count": 18
  },
  {
   "cell_type": "code",
   "id": "d735b61e",
   "metadata": {
    "ExecuteTime": {
     "end_time": "2025-05-21T18:06:49.336318Z",
     "start_time": "2025-05-21T18:06:49.183272Z"
    }
   },
   "source": [
    "# Visualización grafica\n",
    "df['attack'].value_counts().plot(kind='bar')\n",
    "plt.title('Distribución de clases en attack')\n",
    "plt.xlabel('Clase')\n",
    "plt.ylabel('Cantidad de muestras')\n",
    "plt.xticks([0, 1], ['0 (Normal)', '1 (Ataque)'], rotation=0)\n",
    "plt.show()"
   ],
   "outputs": [
    {
     "data": {
      "text/plain": [
       "<Figure size 640x480 with 1 Axes>"
      ],
      "image/png": "[encoded data removed]"
     },
     "metadata": {},
     "output_type": "display_data"
    }
   ],
   "execution_count": 19
  },
  {
   "cell_type": "code",
   "id": "0433a0ff",
   "metadata": {
    "ExecuteTime": {
     "end_time": "2025-05-21T18:06:51.993578Z",
     "start_time": "2025-05-21T18:06:51.441870Z"
    }
   },
   "source": [
    "# Importamos la libreira necesaria\n",
    "from imblearn.over_sampling import SMOTE"
   ],
   "outputs": [],
   "execution_count": 20
  },
  {
   "cell_type": "code",
   "id": "64e26cd6",
   "metadata": {
    "ExecuteTime": {
     "end_time": "2025-05-21T18:06:53.495133Z",
     "start_time": "2025-05-21T18:06:52.784802Z"
    }
   },
   "source": [
    "# Nos guradamos las etiquetas en un vector auxiliar\n",
    "attack = df['attack']\n",
    "\n",
    "# Aplicamos el over_sampling de los datos\n",
    "\n",
    "df, attack = SMOTE().fit_resample(df, attack)"
   ],
   "outputs": [],
   "execution_count": 21
  },
  {
   "cell_type": "code",
   "id": "5662f0b5",
   "metadata": {
    "ExecuteTime": {
     "end_time": "2025-05-21T18:06:55.206421Z",
     "start_time": "2025-05-21T18:06:55.076149Z"
    }
   },
   "source": [
    "# Visualización grafica\n",
    "df['attack'].value_counts().plot(kind='bar')\n",
    "plt.title('Distribución de clases en attack')\n",
    "plt.xlabel('Clase')\n",
    "plt.ylabel('Cantidad de muestras')\n",
    "plt.xticks([0, 1], ['0 (Normal)', '1 (Ataque)'], rotation=0)\n",
    "plt.show()"
   ],
   "outputs": [
    {
     "data": {
      "text/plain": [
       "<Figure size 640x480 with 1 Axes>"
      ],
      "image/png": "[encoded data removed]"
     },
     "metadata": {},
     "output_type": "display_data"
    }
   ],
   "execution_count": 22
  },
  {
   "cell_type": "code",
   "id": "5d2e4984",
   "metadata": {
    "ExecuteTime": {
     "end_time": "2025-05-21T18:06:57.623811Z",
     "start_time": "2025-05-21T18:06:57.606810Z"
    }
   },
   "source": [
    "df['attack'].value_counts()"
   ],
   "outputs": [
    {
     "data": {
      "text/plain": [
       "attack\n",
       "1    5273\n",
       "0    5273\n",
       "Name: count, dtype: int64"
      ]
     },
     "execution_count": 23,
     "metadata": {},
     "output_type": "execute_result"
    }
   ],
   "execution_count": 23
  },
  {
   "cell_type": "markdown",
   "id": "fb3d75ce",
   "metadata": {},
   "source": [
    "Otro"
   ]
  },
  {
   "cell_type": "code",
   "execution_count": null,
   "id": "2ce06423",
   "metadata": {},
   "outputs": [],
   "source": [
    "# Importar el paquete imblearn\n",
    "from imblearn.over_sampling import RandomOverSampler"
   ]
  },
  {
   "cell_type": "code",
   "execution_count": null,
   "id": "503a8991",
   "metadata": {},
   "outputs": [],
   "source": [
    "# Separar features (X) y la variable objetivo (y)\n",
    "X = df.drop('attack', axis=1)\n",
    "y = df['attack']"
   ]
  },
  {
   "cell_type": "code",
   "execution_count": null,
   "id": "72aa7878",
   "metadata": {},
   "outputs": [],
   "source": [
    "# Visualizar el balance del dataset\n",
    "sns.countplot(x=y)"
   ]
  },
  {
   "cell_type": "code",
   "execution_count": null,
   "id": "b027f7aa",
   "metadata": {},
   "outputs": [],
   "source": [
    "# Generar un nuevos conjunto de datos balanceado por Over-sampling\n",
    "# Definimos la estrategia de Oversampling, la clase minoritaria tendrá la misma cantidad que la mayoritaria.\n",
    "oversample = RandomOverSampler(sampling_strategy='minority')"
   ]
  },
  {
   "cell_type": "code",
   "execution_count": null,
   "id": "9f11a6fa",
   "metadata": {},
   "outputs": [],
   "source": [
    "# Generamos el nuevo dataset balanceado\n",
    "X_over, y_over = oversample.fit_resample(X, y)"
   ]
  },
  {
   "cell_type": "code",
   "execution_count": null,
   "id": "030fa853",
   "metadata": {},
   "outputs": [],
   "source": [
    "# Visualizar el balance del dataset generado\n",
    "sns.countplot(x=y_over)"
   ]
  },
  {
   "cell_type": "markdown",
   "id": "fc99b8dc",
   "metadata": {},
   "source": [
    "## NORMALIZACIÓN DEL CONJUNTO DE DATOS"
   ]
  },
  {
   "cell_type": "code",
   "id": "86e95917",
   "metadata": {
    "ExecuteTime": {
     "end_time": "2025-05-21T18:07:01.649099Z",
     "start_time": "2025-05-21T18:07:01.636376Z"
    }
   },
   "source": [
    "# Selección de variables numéricas\n",
    "num_cols = ['login_attempts', 'duration', 'packet_size', 'ip_reputation_score', 'failed_logins']\n",
    "\n",
    "\n",
    "# Filtramos los datos\n",
    "data_numeric = df[num_cols]\n",
    "\n",
    "\n",
    "# Calculamos la media y desviación estándar\n",
    "means = data_numeric.mean()\n",
    "stds = data_numeric.std()\n",
    "\n",
    "\n",
    "# Aplicamos la normalización Z-score\n",
    "data_scaled = (data_numeric - means) / stds\n",
    "\n",
    "\n",
    "# Reemplazamos en el DataFrame original\n",
    "# df_scaled = df.copy()\n",
    "# df_scaled[num_cols] = data_scaled\n",
    "df[num_cols] = data_scaled"
   ],
   "outputs": [],
   "execution_count": 25
  },
  {
   "cell_type": "markdown",
   "id": "899fd1af",
   "metadata": {},
   "source": [
    "# **Modelado**"
   ]
  },
  {
   "cell_type": "code",
   "id": "ef671805",
   "metadata": {
    "ExecuteTime": {
     "end_time": "2025-05-21T18:07:16.542421Z",
     "start_time": "2025-05-21T18:07:16.537417Z"
    }
   },
   "source": [
    "# Carga de los paquetes necesarios\n",
    "from sklearn import tree\n",
    "from sklearn.model_selection import train_test_split\n",
    "from sklearn.linear_model import LogisticRegression\n",
    "from sklearn.naive_bayes import GaussianNB\n",
    "from sklearn.neighbors import KNeighborsClassifier\n",
    "from sklearn.tree import DecisionTreeClassifier\n",
    "from sklearn.metrics import accuracy_score, f1_score"
   ],
   "outputs": [],
   "execution_count": 26
  },
  {
   "cell_type": "code",
   "id": "a6576665",
   "metadata": {
    "ExecuteTime": {
     "end_time": "2025-05-21T18:07:19.485205Z",
     "start_time": "2025-05-21T18:07:19.468688Z"
    }
   },
   "source": [
    "# Visualizar las columnas del dataframe\n",
    "df.columns"
   ],
   "outputs": [
    {
     "data": {
      "text/plain": [
       "Index(['login_attempts', 'duration', 'packet_size', 'ip_reputation_score',\n",
       "       'failed_logins', 'attack', 'protocol_ICMP', 'protocol_TCP',\n",
       "       'protocol_UDP', 'browser_type_Chrome', 'browser_type_Edge',\n",
       "       'browser_type_Firefox', 'browser_type_Safari', 'browser_type_Unknown',\n",
       "       'encryption_used_AES', 'encryption_used_DES', 'unusual_time_access_0',\n",
       "       'unusual_time_access_1'],\n",
       "      dtype='object')"
      ]
     },
     "execution_count": 27,
     "metadata": {},
     "output_type": "execute_result"
    }
   ],
   "execution_count": 27
  },
  {
   "cell_type": "code",
   "id": "3f91933d",
   "metadata": {
    "ExecuteTime": {
     "end_time": "2025-05-21T18:07:21.311027Z",
     "start_time": "2025-05-21T18:07:21.291027Z"
    }
   },
   "source": [
    "# Seleccionar las columnas del dataset \"df\" que corresponden a las entradas del modelo y la salida esperada.\n",
    "X = df[['login_attempts', 'duration', 'packet_size', 'ip_reputation_score',\n",
    "       'failed_logins', 'attack', 'protocol_ICMP', 'protocol_TCP',\n",
    "       'protocol_UDP', 'browser_type_Chrome', 'browser_type_Edge',\n",
    "       'browser_type_Firefox', 'browser_type_Safari', 'browser_type_Unknown',\n",
    "       'encryption_used_AES', 'encryption_used_DES', 'unusual_time_access_0',\n",
    "       'unusual_time_access_1']]\n",
    "y = df['attack'] "
   ],
   "outputs": [],
   "execution_count": 28
  },
  {
   "cell_type": "markdown",
   "id": "7dc862cf",
   "metadata": {},
   "source": "# **Modelos de clasificación'**"
  },
  {
   "cell_type": "code",
   "execution_count": null,
   "id": "5c9c84a1",
   "metadata": {},
   "outputs": [],
   "source": [
    "X.head()"
   ]
  },
  {
   "cell_type": "markdown",
   "id": "ae0f6798",
   "metadata": {},
   "source": [
    "## Partición del conjunto de datos"
   ]
  },
  {
   "cell_type": "code",
   "id": "bf9f7972",
   "metadata": {
    "ExecuteTime": {
     "end_time": "2025-05-21T20:39:41.034605Z",
     "start_time": "2025-05-21T20:39:41.018163Z"
    }
   },
   "source": [
    "# Separar el conjunto de datos en una particion para entrenamiento y una para test con el 30% del conjunto.\n",
    "X_train, X_test, y_train, y_test = train_test_split(X, y, test_size=0.1)"
   ],
   "outputs": [],
   "execution_count": 287
  },
  {
   "cell_type": "code",
   "id": "b8ed348e",
   "metadata": {
    "ExecuteTime": {
     "end_time": "2025-05-21T20:39:41.127859Z",
     "start_time": "2025-05-21T20:39:41.115856Z"
    }
   },
   "source": [
    "# Visualizar el resultado de la función (shape)\n",
    "print(X.shape, X_train.shape, X_test.shape)\n",
    "print(y.shape, y_train.shape, y_test.shape)"
   ],
   "outputs": [
    {
     "name": "stdout",
     "output_type": "stream",
     "text": [
      "(10546, 18) (9491, 18) (1055, 18)\n",
      "(10546,) (9491,) (1055,)\n"
     ]
    }
   ],
   "execution_count": 288
  },
  {
   "cell_type": "markdown",
   "id": "d4bc568d",
   "metadata": {},
   "source": [
    "## Árbol de Decisión"
   ]
  },
  {
   "cell_type": "code",
   "id": "970d7030",
   "metadata": {
    "ExecuteTime": {
     "end_time": "2025-05-21T20:39:41.252086Z",
     "start_time": "2025-05-21T20:39:41.193612Z"
    }
   },
   "source": [
    "# Instanciar un Arbol de Decisión\n",
    "model_Tree1 = DecisionTreeClassifier(max_features=1, max_depth=3)\n",
    "\n",
    "model_Tree2 = DecisionTreeClassifier(max_features=3, max_depth=3)\n",
    "\n",
    "model_Tree3 = DecisionTreeClassifier(max_features=3, max_depth=6)\n",
    "\n",
    "\n",
    "# Entrenar el modelo con el conjunto de entrenamiento\n",
    "model_Tree1.fit(X_train, y_train)\n",
    "model_Tree2.fit(X_train, y_train)\n",
    "model_Tree3.fit(X_train, y_train)\n",
    "\n",
    "# Calculando la precisión para el conjunto de entrenamiento\n",
    "X_train_prediction1 = model_Tree1.predict(X_train)\n",
    "X_train_prediction2 = model_Tree2.predict(X_train)\n",
    "X_train_prediction3 = model_Tree3.predict(X_train)\n",
    "\n",
    "train_accuracy1 = accuracy_score(X_train_prediction1, y_train)\n",
    "train_f1_1 = f1_score(X_train_prediction1, y_train)\n",
    "\n",
    "train_accuracy2 =  accuracy_score(X_train_prediction2, y_train)\n",
    "train_f1_2 = f1_score(X_train_prediction2, y_train)\n",
    "\n",
    "train_accuracy3 = accuracy_score(X_train_prediction3, y_train)\n",
    "train_f1_3 = f1_score(X_train_prediction3, y_train)\n",
    "\n",
    "\n",
    "print('Accuracy para los datos de entrenamiento, para el primer arbol : ', train_accuracy1)\n",
    "print('Precision para los datos de entrenamiento, para el primer arbol : ', train_f1_1)\n",
    "\n",
    "print(\"-----------------------------\")\n",
    "\n",
    "print('Accuracy para los datos de entrenamiento, para el segundo arbol : ', train_accuracy2)\n",
    "print('Precision para los datos de entrenamiento, para el segundo arbol : ', train_f1_2)\n",
    "\n",
    "print(\"-----------------------------\")\n",
    "\n",
    "print('Accuracy para los datos de entrenamiento, para el tercer arbol : ', train_accuracy3)\n",
    "print('Precision para los datos de entrenamiento, para el tercer arbol : ', train_f1_3)\n"
   ],
   "outputs": [
    {
     "name": "stdout",
     "output_type": "stream",
     "text": [
      "Accuracy para los datos de entrenamiento, para el primer arbol :  0.6089979981034664\n",
      "Precision para los datos de entrenamiento, para el primer arbol :  0.5399776868724433\n",
      "-----------------------------\n",
      "Accuracy para los datos de entrenamiento, para el segundo arbol :  0.6437677800021072\n",
      "Precision para los datos de entrenamiento, para el segundo arbol :  0.46663511594888785\n",
      "-----------------------------\n",
      "Accuracy para los datos de entrenamiento, para el tercer arbol :  0.9997892740490991\n",
      "Precision para los datos de entrenamiento, para el tercer arbol :  0.9997900923593619\n"
     ]
    }
   ],
   "execution_count": 289
  },
  {
   "metadata": {},
   "cell_type": "markdown",
   "source": [
    "## Modelo KNN\n",
    "\n",
    "\n",
    "\n"
   ],
   "id": "73e298bebe232a0e"
  },
  {
   "metadata": {
    "ExecuteTime": {
     "end_time": "2025-05-21T20:39:42.479178Z",
     "start_time": "2025-05-21T20:39:41.315596Z"
    }
   },
   "cell_type": "code",
   "source": [
    "model_KNN1 = KNeighborsClassifier(n_neighbors=3)\n",
    "model_KNN2 = KNeighborsClassifier(n_neighbors=4)\n",
    "model_KNN3 = KNeighborsClassifier(n_neighbors=5)\n",
    "\n",
    "model_KNN1.fit(X_train, y_train)\n",
    "model_KNN2.fit(X_train, y_train)\n",
    "model_KNN3.fit(X_train, y_train)\n",
    "\n",
    "# Calculando la precisión para el conjunto de entrenamiento\n",
    "X_train_prediction1 = model_KNN1.predict(X_train)\n",
    "X_train_prediction2 = model_KNN2.predict(X_train)\n",
    "X_train_prediction3 = model_KNN3.predict(X_train)\n",
    "\n",
    "train_accuracy1 = accuracy_score(X_train_prediction1, y_train)\n",
    "train_f1_1 = f1_score(X_train_prediction1, y_train)\n",
    "print('Accuracy para los datos de entrenamiento, para el primer KNN : ', train_accuracy1)\n",
    "print('Puntaje f1 para los datos de entrenamiento, para el primer KNN : ',train_f1_1)\n",
    "\n",
    "print(\"-----------------------------\")\n",
    "\n",
    "train_accuracy2 = accuracy_score(X_train_prediction2, y_train)\n",
    "train_f1_2 = f1_score(X_train_prediction2, y_train)\n",
    "print('Accuracy para los datos de entrenamiento, para el segundo KNN : ', train_accuracy2)\n",
    "print('Puntaje f1 para los datos de entrenamiento, para el segundo KNN : ', train_f1_2)\n",
    "\n",
    "print(\"-----------------------------\")\n",
    "\n",
    "train_accuracy3 = accuracy_score(X_train_prediction3, y_train)\n",
    "train_f1_3 = f1_score(X_train_prediction3, y_train)\n",
    "print('Accuracy para los datos de entrenamiento, para el tercer KNN : ', train_accuracy3)\n",
    "print('Puntaje f1 para los datos de entrenamiento, para el tercer KNN : ', train_f1_3)\n"
   ],
   "id": "87f1631885a4298",
   "outputs": [
    {
     "name": "stdout",
     "output_type": "stream",
     "text": [
      "Accuracy para los datos de entrenamiento, para el primer KNN :  0.9915709619639659\n",
      "Puntaje f1 para los datos de entrenamiento, para el primer KNN :  0.991537973344616\n",
      "-----------------------------\n",
      "Accuracy para los datos de entrenamiento, para el segundo KNN :  0.9789274049099147\n",
      "Puntaje f1 para los datos de entrenamiento, para el segundo KNN :  0.9785545785974694\n",
      "-----------------------------\n",
      "Accuracy para los datos de entrenamiento, para el tercer KNN :  0.9880939837741017\n",
      "Puntaje f1 para los datos de entrenamiento, para el tercer KNN :  0.9879953256135132\n"
     ]
    }
   ],
   "execution_count": 290
  }
 ],
 "metadata": {
  "kernelspec": {
   "display_name": "Python 3",
   "language": "python",
   "name": "python3"
  },
  "language_info": {
   "codemirror_mode": {
    "name": "ipython",
    "version": 3
   },
   "file_extension": ".py",
   "mimetype": "text/x-python",
   "name": "python",
   "nbconvert_exporter": "python",
   "pygments_lexer": "ipython3",
   "version": "3.11.2"
  }
 },
 "nbformat": 4,
 "nbformat_minor": 5
}
