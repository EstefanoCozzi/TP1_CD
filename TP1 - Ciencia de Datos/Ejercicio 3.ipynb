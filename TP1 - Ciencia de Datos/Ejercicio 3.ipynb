{
 "cells": [
  {
   "cell_type": "code",
   "execution_count": null,
   "id": "87dd7c5a",
   "metadata": {},
   "outputs": [],
   "source": [
    "# Importamos las lbrerias necesarias\n",
    "import numpy as np\n",
    "import pandas as pd\n",
    "import matplotlib.pyplot as plt\n",
    "import seaborn as sns"
   ]
  },
  {
   "cell_type": "code",
   "execution_count": null,
   "id": "04050337",
   "metadata": {},
   "outputs": [],
   "source": [
    "# Lectura con pandas de los archivos CSV \n",
    "df_1 = pd.read_csv('str_1.csv', delimiter=';')\n",
    "df_2 = pd.read_csv('str_2.csv', delimiter=';')\n",
    "\n",
    "df = pd.concat([df_1, df_2], ignore_index=True)"
   ]
  },
  {
   "cell_type": "code",
   "execution_count": null,
   "id": "9d780aea",
   "metadata": {},
   "outputs": [],
   "source": [
    "# Observamos los primeros registros del dataframe\n",
    "df.head()"
   ]
  },
  {
   "cell_type": "code",
   "execution_count": null,
   "id": "55c568a0",
   "metadata": {},
   "outputs": [],
   "source": [
    "# Eliminamos la columna ID\n",
    "df.drop('ID', axis=1, inplace=True)"
   ]
  },
  {
   "cell_type": "code",
   "execution_count": null,
   "id": "a712e2b5",
   "metadata": {},
   "outputs": [],
   "source": [
    "# Verificamos que se elimino la columna ID\n",
    "df.head()"
   ]
  },
  {
   "cell_type": "markdown",
   "id": "881eb5f6",
   "metadata": {},
   "source": [
    "## VALORES ERRÓNEOS Y/O FALTANTES"
   ]
  },
  {
   "cell_type": "code",
   "execution_count": null,
   "id": "3afc853d",
   "metadata": {},
   "outputs": [],
   "source": [
    "# Observamos los valores faltantes\n",
    "df.isnull().sum()"
   ]
  },
  {
   "cell_type": "code",
   "execution_count": null,
   "id": "992c75a3",
   "metadata": {},
   "outputs": [],
   "source": [
    "# Asignar a los valores faltantes de intentos de login la mediana ya que son numeros naturales\n",
    "df['login_attempts'].fillna(df['login_attempts'].median(), inplace=True)"
   ]
  },
  {
   "cell_type": "code",
   "execution_count": null,
   "id": "a22c4957",
   "metadata": {},
   "outputs": [],
   "source": [
    "# Protocolo de encriptación\n",
    "df_encryption_used = pd.DataFrame(df['encryption_used'])\n",
    "df_encryption_used.fillna('Vacio', inplace=True)\n",
    "\n",
    "plt.pie(df_encryption_used['encryption_used'].value_counts(), labels=df_encryption_used['encryption_used'].unique(), autopct='%1.2f%%') #\n",
    "plt.title('Proporción de distintos protocolos de encriptación usados')\n",
    "\n",
    "plt.tight_layout()\n",
    "plt.show()"
   ]
  },
  {
   "cell_type": "code",
   "execution_count": null,
   "id": "1e4e9b23",
   "metadata": {},
   "outputs": [],
   "source": [
    "# Para los datos faltantes del protocolo de encriptación\n",
    "# Obtener distribución original (sin NaN)\n",
    "dist = df['encryption_used'].value_counts(normalize=True)\n",
    "\n",
    "# Generar valores aleatorios con esa distribución\n",
    "missing_count = df['encryption_used'].isna().sum()\n",
    "imputed_values = np.random.choice(dist.index, size=missing_count, p=dist.values)\n",
    "\n",
    "# Reemplazar NaNs con los valores generados\n",
    "df.loc[df['encryption_used'].isna(), 'encryption_used'] = imputed_values\n",
    "\n",
    "# Si la variable tiene correlación con otras podrías entrenar un modelo de clasificación"
   ]
  },
  {
   "cell_type": "code",
   "execution_count": null,
   "id": "e5104b50",
   "metadata": {},
   "outputs": [],
   "source": [
    "# Protocolo de encriptación\n",
    "plt.pie(df['encryption_used'].value_counts(), labels=df['encryption_used'].unique(), autopct='%1.2f%%') #\n",
    "plt.title('Proporción de distintos protocolos de encriptación usados')\n",
    "\n",
    "plt.tight_layout()\n",
    "plt.show()"
   ]
  },
  {
   "cell_type": "code",
   "execution_count": null,
   "id": "9af24747",
   "metadata": {},
   "outputs": [],
   "source": [
    "# Verificamos los valores faltantes\n",
    "df.isnull().sum()"
   ]
  },
  {
   "cell_type": "markdown",
   "id": "0599cbb7",
   "metadata": {},
   "source": [
    "## VALORES ATÍPICOS"
   ]
  },
  {
   "cell_type": "code",
   "execution_count": null,
   "id": "dd8c5b15",
   "metadata": {},
   "outputs": [],
   "source": [
    "# Boxplot para visualizar valores atípicos\n",
    "# Visualizamos la distribución de las distintas variables\n",
    "fig, ax = plt.subplots(figsize=(15,6))\n",
    "df.plot(kind='box', ax=ax)"
   ]
  },
  {
   "cell_type": "markdown",
   "id": "f7695604",
   "metadata": {},
   "source": [
    "## PROCESAMIENTO DE VARIABLES CATEGÓRICAS"
   ]
  },
  {
   "cell_type": "code",
   "execution_count": null,
   "id": "e3f5b46b",
   "metadata": {},
   "outputs": [],
   "source": [
    "df = pd.get_dummies(df, columns=['protocol','browser_type'], dtype=int)\n",
    "df = pd.get_dummies(df, columns=['encryption_used', 'unusual_time_access'], dtype=int)"
   ]
  },
  {
   "cell_type": "code",
   "execution_count": null,
   "id": "4e2b96c7",
   "metadata": {},
   "outputs": [],
   "source": [
    "df.head()"
   ]
  },
  {
   "cell_type": "markdown",
   "id": "eabd284f",
   "metadata": {},
   "source": [
    "Los valores de la variable categórica que representa nuestras etiquetas son Strings 'Y' y 'N' representando fue atacado o no. Cambiamos estos resultados por 1 para la etiqueta 'Y' y 0 para la etiqueta 'N'."
   ]
  },
  {
   "cell_type": "code",
   "execution_count": null,
   "id": "e4ba04c0",
   "metadata": {},
   "outputs": [],
   "source": [
    "# Visualizar los valores de la columna (unique).\n",
    "df['attack'].unique()"
   ]
  },
  {
   "cell_type": "code",
   "execution_count": null,
   "id": "a7ab3bad",
   "metadata": {},
   "outputs": [],
   "source": [
    "# Cambiar los valores Y y N de la columna \"attack\" por 1 y 0\n",
    "df['attack'] = df['attack'].map({'Y':1,'N':0})"
   ]
  },
  {
   "cell_type": "code",
   "execution_count": null,
   "id": "b7e5ae23",
   "metadata": {},
   "outputs": [],
   "source": [
    "# Visualizar los valores de la columna (unique).\n",
    "df['attack'].unique()"
   ]
  },
  {
   "cell_type": "markdown",
   "id": "cb1e23dc",
   "metadata": {},
   "source": [
    "## BALANCE DEL CONJUNTO DE DATOS"
   ]
  },
  {
   "cell_type": "code",
   "execution_count": null,
   "id": "831e3005",
   "metadata": {},
   "outputs": [],
   "source": [
    "# Visualizar el balance del dataset\n",
    "df['attack'].value_counts()"
   ]
  },
  {
   "cell_type": "code",
   "execution_count": null,
   "id": "d735b61e",
   "metadata": {},
   "outputs": [],
   "source": [
    "# Visualización grafica\n",
    "df['attack'].value_counts().plot(kind='bar')\n",
    "plt.title('Distribución de clases en attack')\n",
    "plt.xlabel('Clase')\n",
    "plt.ylabel('Cantidad de muestras')\n",
    "plt.xticks([0, 1], ['0 (Normal)', '1 (Ataque)'], rotation=0)\n",
    "plt.show()"
   ]
  },
  {
   "cell_type": "code",
   "execution_count": null,
   "id": "0433a0ff",
   "metadata": {},
   "outputs": [],
   "source": [
    "# Importamos la libreira necesaria\n",
    "from imblearn.over_sampling import SMOTE"
   ]
  },
  {
   "cell_type": "code",
   "execution_count": null,
   "id": "64e26cd6",
   "metadata": {},
   "outputs": [],
   "source": [
    "# Nos guradamos las etiquetas en un vector auxiliar\n",
    "attack = df['attack']\n",
    "\n",
    "# Aplicamos el over_sampling de los datos\n",
    "\n",
    "df, attack = SMOTE().fit_resample(df, attack)"
   ]
  },
  {
   "cell_type": "code",
   "execution_count": null,
   "id": "5662f0b5",
   "metadata": {},
   "outputs": [],
   "source": [
    "# Visualización grafica\n",
    "df['attack'].value_counts().plot(kind='bar')\n",
    "plt.title('Distribución de clases en attack')\n",
    "plt.xlabel('Clase')\n",
    "plt.ylabel('Cantidad de muestras')\n",
    "plt.xticks([0, 1], ['0 (Normal)', '1 (Ataque)'], rotation=0)\n",
    "plt.show()"
   ]
  },
  {
   "cell_type": "code",
   "execution_count": null,
   "id": "5d2e4984",
   "metadata": {},
   "outputs": [],
   "source": [
    "df['attack'].value_counts()"
   ]
  },
  {
   "cell_type": "markdown",
   "id": "fb3d75ce",
   "metadata": {},
   "source": [
    "Otro"
   ]
  },
  {
   "cell_type": "code",
   "execution_count": null,
   "id": "2ce06423",
   "metadata": {},
   "outputs": [],
   "source": [
    "# Importar el paquete imblearn\n",
    "from imblearn.over_sampling import RandomOverSampler"
   ]
  },
  {
   "cell_type": "code",
   "execution_count": null,
   "id": "503a8991",
   "metadata": {},
   "outputs": [],
   "source": [
    "# Separar features (X) y la variable objetivo (y)\n",
    "X = df.drop('attack', axis=1)\n",
    "y = df['attack']"
   ]
  },
  {
   "cell_type": "code",
   "execution_count": null,
   "id": "72aa7878",
   "metadata": {},
   "outputs": [],
   "source": [
    "# Visualizar el balance del dataset\n",
    "sns.countplot(x=y)"
   ]
  },
  {
   "cell_type": "code",
   "execution_count": null,
   "id": "b027f7aa",
   "metadata": {},
   "outputs": [],
   "source": [
    "# Generar un nuevos conjunto de datos balanceado por Over-sampling\n",
    "# Definimos la estrategia de Oversampling, la clase minoritaria tendrá la misma cantidad que la mayoritaria.\n",
    "oversample = RandomOverSampler(sampling_strategy='minority')"
   ]
  },
  {
   "cell_type": "code",
   "execution_count": null,
   "id": "9f11a6fa",
   "metadata": {},
   "outputs": [],
   "source": [
    "# Generamos el nuevo dataset balanceado\n",
    "X_over, y_over = oversample.fit_resample(X, y)"
   ]
  },
  {
   "cell_type": "code",
   "execution_count": null,
   "id": "030fa853",
   "metadata": {},
   "outputs": [],
   "source": [
    "# Visualizar el balance del dataset generado\n",
    "sns.countplot(x=y_over)"
   ]
  },
  {
   "cell_type": "markdown",
   "id": "fc99b8dc",
   "metadata": {},
   "source": [
    "## NORMALIZACIÓN DEL CONJUNTO DE DATOS"
   ]
  },
  {
   "cell_type": "code",
   "execution_count": null,
   "id": "86e95917",
   "metadata": {},
   "outputs": [],
   "source": [
    "# Selección de variables numéricas\n",
    "num_cols = ['login_attempts', 'duration', 'packet_size', 'ip_reputation_score', 'failed_logins']\n",
    "\n",
    "\n",
    "# Filtramos los datos\n",
    "data_numeric = df[num_cols]\n",
    "\n",
    "\n",
    "# Calculamos la media y desviación estándar\n",
    "means = data_numeric.mean()\n",
    "stds = data_numeric.std()\n",
    "\n",
    "\n",
    "# Aplicamos la normalización Z-score\n",
    "data_scaled = (data_numeric - means) / stds\n",
    "\n",
    "\n",
    "# Reemplazamos en el DataFrame original\n",
    "# df_scaled = df.copy()\n",
    "# df_scaled[num_cols] = data_scaled\n",
    "df[num_cols] = data_scaled"
   ]
  },
  {
   "cell_type": "markdown",
   "id": "899fd1af",
   "metadata": {},
   "source": [
    "# **Modelado**"
   ]
  },
  {
   "cell_type": "code",
   "execution_count": null,
   "id": "ef671805",
   "metadata": {},
   "outputs": [],
   "source": [
    "# Carga de los paquetes necesarios\n",
    "from sklearn import tree\n",
    "from sklearn.model_selection import train_test_split\n",
    "from sklearn.linear_model import LogisticRegression\n",
    "from sklearn.naive_bayes import GaussianNB\n",
    "from sklearn.neighbors import KNeighborsClassifier\n",
    "from sklearn.tree import DecisionTreeClassifier\n",
    "from sklearn.metrics import accuracy_score, f1_score"
   ]
  },
  {
   "cell_type": "code",
   "execution_count": null,
   "id": "a6576665",
   "metadata": {},
   "outputs": [],
   "source": [
    "# Visualizar las columnas del dataframe\n",
    "df.columns"
   ]
  },
  {
   "cell_type": "code",
   "execution_count": null,
   "id": "3f91933d",
   "metadata": {},
   "outputs": [],
   "source": [
    "# Seleccionar las columnas del dataset \"df\" que corresponden a las entradas del modelo y la salida esperada.\n",
    "X = df[['login_attempts', 'duration', 'packet_size', 'ip_reputation_score',\n",
    "       'failed_logins', 'attack', 'protocol_ICMP', 'protocol_TCP',\n",
    "       'protocol_UDP', 'browser_type_Chrome', 'browser_type_Edge',\n",
    "       'browser_type_Firefox', 'browser_type_Safari', 'browser_type_Unknown',\n",
    "       'encryption_used_AES', 'encryption_used_DES', 'unusual_time_access_0',\n",
    "       'unusual_time_access_1']]\n",
    "y = df['attack'] "
   ]
  },
  {
   "cell_type": "markdown",
   "id": "7dc862cf",
   "metadata": {},
   "source": [
    "# **Modelos de clasificació**"
   ]
  },
  {
   "cell_type": "code",
   "execution_count": null,
   "id": "5c9c84a1",
   "metadata": {},
   "outputs": [],
   "source": [
    "X.head()"
   ]
  },
  {
   "cell_type": "markdown",
   "id": "ae0f6798",
   "metadata": {},
   "source": [
    "## Partición del conjunto de datos"
   ]
  },
  {
   "cell_type": "code",
   "execution_count": null,
   "id": "bf9f7972",
   "metadata": {},
   "outputs": [],
   "source": [
    "# Separar el conjunto de datos en una particion para entrenamiento y una para test con el 30% del conjunto.\n",
    "X_train, X_test, y_train, y_test = train_test_split(X_over, y_over, test_size=0.3)"
   ]
  },
  {
   "cell_type": "code",
   "execution_count": null,
   "id": "b8ed348e",
   "metadata": {},
   "outputs": [],
   "source": [
    "# Visualizar el resultado de la función (shape)\n",
    "print(X.shape, X_train.shape, X_test.shape)\n",
    "print(y.shape, y_train.shape, y_test.shape)"
   ]
  },
  {
   "cell_type": "markdown",
   "id": "d4bc568d",
   "metadata": {},
   "source": [
    "## Árbol de Decisión"
   ]
  },
  {
   "cell_type": "code",
   "execution_count": null,
   "id": "3ad4892a",
   "metadata": {},
   "outputs": [],
   "source": [
    "# Instanciar un Arbol de Decisión\n",
    "model_Tree = DecisionTreeClassifier(max_features=6, max_depth=6)"
   ]
  },
  {
   "cell_type": "code",
   "execution_count": null,
   "id": "feb90f77",
   "metadata": {},
   "outputs": [],
   "source": [
    "# Entrenar el modelo con el conjunto de entrenamiento\n",
    "model_Tree.fit(X_train, y_train)"
   ]
  },
  {
   "cell_type": "code",
   "execution_count": null,
   "id": "970d7030",
   "metadata": {},
   "outputs": [],
   "source": [
    "# Calculando la precisión para el conjunto de entrenamiento\n",
    "X_train_prediction = model_Tree.predict(X_train)\n",
    "train_accuracy = accuracy_score(X_train_prediction, y_train)\n",
    "train_f1 = f1_score(X_train_prediction, y_train)\n",
    "print('Accuracy para los datos de entrenamiento : ', train_accuracy)\n",
    "print('Precision para los datos de entrenamiento : ', train_f1)"
   ]
  },
  {
   "cell_type": "code",
   "execution_count": null,
   "id": "ca054dd1",
   "metadata": {},
   "outputs": [],
   "source": [
    "# Calculando la precisión para el conjunto de test\n",
    "X_test_prediction = model_Tree.predict(X_test)\n",
    "test_accuracy = accuracy_score(X_test_prediction, y_test)\n",
    "test_f1 = f1_score(X_test_prediction, y_test)\n",
    "print('Accuracy para los datos de test : ', test_accuracy)\n",
    "print('Precision para los datos de test : ', test_f1)"
   ]
  }
 ],
 "metadata": {
  "kernelspec": {
   "display_name": "Python 3",
   "language": "python",
   "name": "python3"
  },
  "language_info": {
   "codemirror_mode": {
    "name": "ipython",
    "version": 3
   },
   "file_extension": ".py",
   "mimetype": "text/x-python",
   "name": "python",
   "nbconvert_exporter": "python",
   "pygments_lexer": "ipython3",
   "version": "3.11.2"
  }
 },
 "nbformat": 4,
 "nbformat_minor": 5
}
